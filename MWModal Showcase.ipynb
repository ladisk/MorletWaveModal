{
 "cells": [
  {
   "cell_type": "code",
   "execution_count": 1,
   "id": "42e3147c",
   "metadata": {},
   "outputs": [],
   "source": [
    "import sys\n",
    "import numpy as np\n",
    "import matplotlib.pyplot as plt\n",
    "import mwmodal as mwm"
   ]
  },
  {
   "cell_type": "code",
   "execution_count": 2,
   "id": "68d40796",
   "metadata": {},
   "outputs": [],
   "source": [
    "# set time domain\n",
    "fs = 5000\n",
    "T = 2\n",
    "time = np.arange(T*fs) / fs"
   ]
  },
  {
   "cell_type": "code",
   "execution_count": 3,
   "id": "931d2070",
   "metadata": {},
   "outputs": [],
   "source": [
    "# generate a free response of a SDOF damped mechanical system\n",
    "\n",
    "w_d = 2*np.pi * 100 # undamped natural frequency\n",
    "d = 0.005 # damping ratio\n",
    "w_n = w_d / np.sqrt(1 - d**2) # damped natural frequency\n",
    "x = 1 # amplitude\n",
    "phi = 0.3 # phase\n",
    "\n",
    "response = x * np.exp(-d * w_n * time) * np.cos(w_d * time - phi)"
   ]
  },
  {
   "cell_type": "code",
   "execution_count": 4,
   "id": "a8eade49",
   "metadata": {},
   "outputs": [],
   "source": [
    "# set MorletWaveModal object identifier\n",
    "identifier = mwm.MorletWaveModal(free_response=response, fs=fs)"
   ]
  },
  {
   "cell_type": "code",
   "execution_count": 7,
   "id": "cb5f48e2",
   "metadata": {},
   "outputs": [
    {
     "name": "stdout",
     "output_type": "stream",
     "text": [
      "k_lim = 198\n",
      "k_signal = 198\n",
      "k_lim = 198\n"
     ]
    },
    {
     "data": {
      "text/plain": [
       "(628.3411033191823,\n",
       " 0.0050038316509950906,\n",
       " 1.0011857307954155,\n",
       " 0.3079719683768832)"
      ]
     },
     "execution_count": 7,
     "metadata": {},
     "output_type": "execute_result"
    }
   ],
   "source": [
    "# set initial natural frequency and estimate damping ratio\n",
    "identifier.identify_modal_parameters(omega_estimated=w_n, damping_estimated=0.005)"
   ]
  }
 ],
 "metadata": {
  "kernelspec": {
   "display_name": "Python 3 (ipykernel)",
   "language": "python",
   "name": "python3"
  },
  "language_info": {
   "codemirror_mode": {
    "name": "ipython",
    "version": 3
   },
   "file_extension": ".py",
   "mimetype": "text/x-python",
   "name": "python",
   "nbconvert_exporter": "python",
   "pygments_lexer": "ipython3",
   "version": "3.9.7"
  },
  "toc": {
   "base_numbering": 1,
   "nav_menu": {},
   "number_sections": true,
   "sideBar": true,
   "skip_h1_title": false,
   "title_cell": "Table of Contents",
   "title_sidebar": "Contents",
   "toc_cell": false,
   "toc_position": {},
   "toc_section_display": true,
   "toc_window_display": false
  }
 },
 "nbformat": 4,
 "nbformat_minor": 5
}
